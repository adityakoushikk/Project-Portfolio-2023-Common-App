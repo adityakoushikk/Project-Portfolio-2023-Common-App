{
 "cells": [
  {
   "cell_type": "code",
   "execution_count": 2,
   "id": "54f91e67",
   "metadata": {},
   "outputs": [
    {
     "data": {
      "text/html": [
       "<div>\n",
       "<style scoped>\n",
       "    .dataframe tbody tr th:only-of-type {\n",
       "        vertical-align: middle;\n",
       "    }\n",
       "\n",
       "    .dataframe tbody tr th {\n",
       "        vertical-align: top;\n",
       "    }\n",
       "\n",
       "    .dataframe thead th {\n",
       "        text-align: right;\n",
       "    }\n",
       "</style>\n",
       "<table border=\"1\" class=\"dataframe\">\n",
       "  <thead>\n",
       "    <tr style=\"text-align: right;\">\n",
       "      <th></th>\n",
       "      <th>allele</th>\n",
       "      <th>peptide</th>\n",
       "      <th>measurement_value</th>\n",
       "      <th>measurement_inequality</th>\n",
       "      <th>measurement_type</th>\n",
       "      <th>measurement_kind</th>\n",
       "      <th>measurement_source</th>\n",
       "      <th>original_allele</th>\n",
       "    </tr>\n",
       "  </thead>\n",
       "  <tbody>\n",
       "    <tr>\n",
       "      <th>0</th>\n",
       "      <td>BoLA-1*21:01</td>\n",
       "      <td>AENDTLVVSV</td>\n",
       "      <td>7817.0</td>\n",
       "      <td>=</td>\n",
       "      <td>quantitative</td>\n",
       "      <td>affinity</td>\n",
       "      <td>Barlow - purified MHC/competitive/fluorescence</td>\n",
       "      <td>BoLA-1*02101</td>\n",
       "    </tr>\n",
       "    <tr>\n",
       "      <th>1</th>\n",
       "      <td>BoLA-1*21:01</td>\n",
       "      <td>NQFNGGCLLV</td>\n",
       "      <td>1086.0</td>\n",
       "      <td>=</td>\n",
       "      <td>quantitative</td>\n",
       "      <td>affinity</td>\n",
       "      <td>Barlow - purified MHC/direct/fluorescence</td>\n",
       "      <td>BoLA-1*02101</td>\n",
       "    </tr>\n",
       "    <tr>\n",
       "      <th>2</th>\n",
       "      <td>BoLA-2*08:01</td>\n",
       "      <td>AAHCIHAEW</td>\n",
       "      <td>21.0</td>\n",
       "      <td>=</td>\n",
       "      <td>quantitative</td>\n",
       "      <td>affinity</td>\n",
       "      <td>Barlow - purified MHC/direct/fluorescence</td>\n",
       "      <td>BoLA-2*00801</td>\n",
       "    </tr>\n",
       "    <tr>\n",
       "      <th>3</th>\n",
       "      <td>BoLA-2*08:01</td>\n",
       "      <td>AAKHMSNTY</td>\n",
       "      <td>1299.0</td>\n",
       "      <td>=</td>\n",
       "      <td>quantitative</td>\n",
       "      <td>affinity</td>\n",
       "      <td>Barlow - purified MHC/direct/fluorescence</td>\n",
       "      <td>BoLA-2*00801</td>\n",
       "    </tr>\n",
       "    <tr>\n",
       "      <th>4</th>\n",
       "      <td>BoLA-2*08:01</td>\n",
       "      <td>DSYAYMRNGW</td>\n",
       "      <td>2.0</td>\n",
       "      <td>=</td>\n",
       "      <td>quantitative</td>\n",
       "      <td>affinity</td>\n",
       "      <td>Barlow - purified MHC/direct/fluorescence</td>\n",
       "      <td>BoLA-2*00801</td>\n",
       "    </tr>\n",
       "  </tbody>\n",
       "</table>\n",
       "</div>"
      ],
      "text/plain": [
       "         allele     peptide  measurement_value measurement_inequality  \\\n",
       "0  BoLA-1*21:01  AENDTLVVSV             7817.0                      =   \n",
       "1  BoLA-1*21:01  NQFNGGCLLV             1086.0                      =   \n",
       "2  BoLA-2*08:01   AAHCIHAEW               21.0                      =   \n",
       "3  BoLA-2*08:01   AAKHMSNTY             1299.0                      =   \n",
       "4  BoLA-2*08:01  DSYAYMRNGW                2.0                      =   \n",
       "\n",
       "  measurement_type measurement_kind  \\\n",
       "0     quantitative         affinity   \n",
       "1     quantitative         affinity   \n",
       "2     quantitative         affinity   \n",
       "3     quantitative         affinity   \n",
       "4     quantitative         affinity   \n",
       "\n",
       "                               measurement_source original_allele  \n",
       "0  Barlow - purified MHC/competitive/fluorescence    BoLA-1*02101  \n",
       "1       Barlow - purified MHC/direct/fluorescence    BoLA-1*02101  \n",
       "2       Barlow - purified MHC/direct/fluorescence    BoLA-2*00801  \n",
       "3       Barlow - purified MHC/direct/fluorescence    BoLA-2*00801  \n",
       "4       Barlow - purified MHC/direct/fluorescence    BoLA-2*00801  "
      ]
     },
     "execution_count": 2,
     "metadata": {},
     "output_type": "execute_result"
    }
   ],
   "source": [
    "import pandas as pd\n",
    "pep = pd.read_csv(\"/Users/kbhaskar/Desktop/GEO database/peptide-mhc-binding-affinity.csv\", index_col=None)\n",
    "pep.head()"
   ]
  },
  {
   "cell_type": "code",
   "execution_count": 3,
   "id": "7ade5499",
   "metadata": {},
   "outputs": [
    {
     "name": "stdout",
     "output_type": "stream",
     "text": [
      "187669\n"
     ]
    }
   ],
   "source": [
    "#only take human hla alleles\n",
    "for index, row in pep.iterrows():\n",
    "    if not row['allele'].startswith(\"HLA\"):\n",
    "        pep.drop(index, inplace=True)\n",
    "print(len(pep))"
   ]
  },
  {
   "cell_type": "code",
   "execution_count": 4,
   "id": "37d2c959",
   "metadata": {},
   "outputs": [
    {
     "data": {
      "text/html": [
       "<div>\n",
       "<style scoped>\n",
       "    .dataframe tbody tr th:only-of-type {\n",
       "        vertical-align: middle;\n",
       "    }\n",
       "\n",
       "    .dataframe tbody tr th {\n",
       "        vertical-align: top;\n",
       "    }\n",
       "\n",
       "    .dataframe thead th {\n",
       "        text-align: right;\n",
       "    }\n",
       "</style>\n",
       "<table border=\"1\" class=\"dataframe\">\n",
       "  <thead>\n",
       "    <tr style=\"text-align: right;\">\n",
       "      <th></th>\n",
       "      <th>allele</th>\n",
       "      <th>peptide</th>\n",
       "      <th>measurement_value</th>\n",
       "      <th>measurement_inequality</th>\n",
       "      <th>measurement_type</th>\n",
       "      <th>measurement_kind</th>\n",
       "      <th>measurement_source</th>\n",
       "      <th>original_allele</th>\n",
       "    </tr>\n",
       "  </thead>\n",
       "  <tbody>\n",
       "    <tr>\n",
       "      <th>15886</th>\n",
       "      <td>HLA-A*01:01</td>\n",
       "      <td>AADFPGIAR</td>\n",
       "      <td>20000.0</td>\n",
       "      <td>&gt;</td>\n",
       "      <td>quantitative</td>\n",
       "      <td>affinity</td>\n",
       "      <td>Buus - purified MHC/direct/fluorescence</td>\n",
       "      <td>HLA-A*01:01</td>\n",
       "    </tr>\n",
       "    <tr>\n",
       "      <th>15887</th>\n",
       "      <td>HLA-A*01:01</td>\n",
       "      <td>AADKAAAAAY</td>\n",
       "      <td>45.0</td>\n",
       "      <td>=</td>\n",
       "      <td>quantitative</td>\n",
       "      <td>affinity</td>\n",
       "      <td>Michel - purified MHC/competitive/radioactivity</td>\n",
       "      <td>HLA-A*01:01</td>\n",
       "    </tr>\n",
       "    <tr>\n",
       "      <th>15888</th>\n",
       "      <td>HLA-A*01:01</td>\n",
       "      <td>AADKAAAAY</td>\n",
       "      <td>50.0</td>\n",
       "      <td>=</td>\n",
       "      <td>quantitative</td>\n",
       "      <td>affinity</td>\n",
       "      <td>Sette - purified MHC/competitive/radioactivity</td>\n",
       "      <td>HLA-A*01:01</td>\n",
       "    </tr>\n",
       "    <tr>\n",
       "      <th>15889</th>\n",
       "      <td>HLA-A*01:01</td>\n",
       "      <td>AADSFATSY</td>\n",
       "      <td>76.3</td>\n",
       "      <td>=</td>\n",
       "      <td>quantitative</td>\n",
       "      <td>affinity</td>\n",
       "      <td>Buus - purified MHC/direct/fluorescence</td>\n",
       "      <td>HLA-A*01:01</td>\n",
       "    </tr>\n",
       "    <tr>\n",
       "      <th>15890</th>\n",
       "      <td>HLA-A*01:01</td>\n",
       "      <td>AAELDRTEEY</td>\n",
       "      <td>5000.0</td>\n",
       "      <td>&gt;</td>\n",
       "      <td>qualitative</td>\n",
       "      <td>affinity</td>\n",
       "      <td>Jr - purified MHC/direct/fluorescence</td>\n",
       "      <td>HLA-A*01:01</td>\n",
       "    </tr>\n",
       "  </tbody>\n",
       "</table>\n",
       "</div>"
      ],
      "text/plain": [
       "            allele     peptide  measurement_value measurement_inequality  \\\n",
       "15886  HLA-A*01:01   AADFPGIAR            20000.0                      >   \n",
       "15887  HLA-A*01:01  AADKAAAAAY               45.0                      =   \n",
       "15888  HLA-A*01:01   AADKAAAAY               50.0                      =   \n",
       "15889  HLA-A*01:01   AADSFATSY               76.3                      =   \n",
       "15890  HLA-A*01:01  AAELDRTEEY             5000.0                      >   \n",
       "\n",
       "      measurement_type measurement_kind  \\\n",
       "15886     quantitative         affinity   \n",
       "15887     quantitative         affinity   \n",
       "15888     quantitative         affinity   \n",
       "15889     quantitative         affinity   \n",
       "15890      qualitative         affinity   \n",
       "\n",
       "                                    measurement_source original_allele  \n",
       "15886          Buus - purified MHC/direct/fluorescence     HLA-A*01:01  \n",
       "15887  Michel - purified MHC/competitive/radioactivity     HLA-A*01:01  \n",
       "15888   Sette - purified MHC/competitive/radioactivity     HLA-A*01:01  \n",
       "15889          Buus - purified MHC/direct/fluorescence     HLA-A*01:01  \n",
       "15890            Jr - purified MHC/direct/fluorescence     HLA-A*01:01  "
      ]
     },
     "execution_count": 4,
     "metadata": {},
     "output_type": "execute_result"
    }
   ],
   "source": [
    "pep.head()"
   ]
  },
  {
   "cell_type": "code",
   "execution_count": 5,
   "id": "fe9f2fd3",
   "metadata": {},
   "outputs": [],
   "source": [
    "pep = pep.reset_index()\n",
    "pep = pep.drop('index', 1)"
   ]
  },
  {
   "cell_type": "code",
   "execution_count": 6,
   "id": "8f7a4bda",
   "metadata": {},
   "outputs": [
    {
     "data": {
      "text/html": [
       "<div>\n",
       "<style scoped>\n",
       "    .dataframe tbody tr th:only-of-type {\n",
       "        vertical-align: middle;\n",
       "    }\n",
       "\n",
       "    .dataframe tbody tr th {\n",
       "        vertical-align: top;\n",
       "    }\n",
       "\n",
       "    .dataframe thead th {\n",
       "        text-align: right;\n",
       "    }\n",
       "</style>\n",
       "<table border=\"1\" class=\"dataframe\">\n",
       "  <thead>\n",
       "    <tr style=\"text-align: right;\">\n",
       "      <th></th>\n",
       "      <th>allele</th>\n",
       "      <th>peptide</th>\n",
       "      <th>measurement_value</th>\n",
       "      <th>measurement_inequality</th>\n",
       "      <th>measurement_type</th>\n",
       "      <th>measurement_kind</th>\n",
       "      <th>measurement_source</th>\n",
       "      <th>original_allele</th>\n",
       "    </tr>\n",
       "  </thead>\n",
       "  <tbody>\n",
       "    <tr>\n",
       "      <th>0</th>\n",
       "      <td>HLA-A*01:01</td>\n",
       "      <td>AADFPGIAR</td>\n",
       "      <td>20000.0</td>\n",
       "      <td>&gt;</td>\n",
       "      <td>quantitative</td>\n",
       "      <td>affinity</td>\n",
       "      <td>Buus - purified MHC/direct/fluorescence</td>\n",
       "      <td>HLA-A*01:01</td>\n",
       "    </tr>\n",
       "    <tr>\n",
       "      <th>1</th>\n",
       "      <td>HLA-A*01:01</td>\n",
       "      <td>AADKAAAAAY</td>\n",
       "      <td>45.0</td>\n",
       "      <td>=</td>\n",
       "      <td>quantitative</td>\n",
       "      <td>affinity</td>\n",
       "      <td>Michel - purified MHC/competitive/radioactivity</td>\n",
       "      <td>HLA-A*01:01</td>\n",
       "    </tr>\n",
       "    <tr>\n",
       "      <th>2</th>\n",
       "      <td>HLA-A*01:01</td>\n",
       "      <td>AADKAAAAY</td>\n",
       "      <td>50.0</td>\n",
       "      <td>=</td>\n",
       "      <td>quantitative</td>\n",
       "      <td>affinity</td>\n",
       "      <td>Sette - purified MHC/competitive/radioactivity</td>\n",
       "      <td>HLA-A*01:01</td>\n",
       "    </tr>\n",
       "    <tr>\n",
       "      <th>3</th>\n",
       "      <td>HLA-A*01:01</td>\n",
       "      <td>AADSFATSY</td>\n",
       "      <td>76.3</td>\n",
       "      <td>=</td>\n",
       "      <td>quantitative</td>\n",
       "      <td>affinity</td>\n",
       "      <td>Buus - purified MHC/direct/fluorescence</td>\n",
       "      <td>HLA-A*01:01</td>\n",
       "    </tr>\n",
       "    <tr>\n",
       "      <th>4</th>\n",
       "      <td>HLA-A*01:01</td>\n",
       "      <td>AAELDRTEEY</td>\n",
       "      <td>5000.0</td>\n",
       "      <td>&gt;</td>\n",
       "      <td>qualitative</td>\n",
       "      <td>affinity</td>\n",
       "      <td>Jr - purified MHC/direct/fluorescence</td>\n",
       "      <td>HLA-A*01:01</td>\n",
       "    </tr>\n",
       "  </tbody>\n",
       "</table>\n",
       "</div>"
      ],
      "text/plain": [
       "        allele     peptide  measurement_value measurement_inequality  \\\n",
       "0  HLA-A*01:01   AADFPGIAR            20000.0                      >   \n",
       "1  HLA-A*01:01  AADKAAAAAY               45.0                      =   \n",
       "2  HLA-A*01:01   AADKAAAAY               50.0                      =   \n",
       "3  HLA-A*01:01   AADSFATSY               76.3                      =   \n",
       "4  HLA-A*01:01  AAELDRTEEY             5000.0                      >   \n",
       "\n",
       "  measurement_type measurement_kind  \\\n",
       "0     quantitative         affinity   \n",
       "1     quantitative         affinity   \n",
       "2     quantitative         affinity   \n",
       "3     quantitative         affinity   \n",
       "4      qualitative         affinity   \n",
       "\n",
       "                                measurement_source original_allele  \n",
       "0          Buus - purified MHC/direct/fluorescence     HLA-A*01:01  \n",
       "1  Michel - purified MHC/competitive/radioactivity     HLA-A*01:01  \n",
       "2   Sette - purified MHC/competitive/radioactivity     HLA-A*01:01  \n",
       "3          Buus - purified MHC/direct/fluorescence     HLA-A*01:01  \n",
       "4            Jr - purified MHC/direct/fluorescence     HLA-A*01:01  "
      ]
     },
     "execution_count": 6,
     "metadata": {},
     "output_type": "execute_result"
    }
   ],
   "source": [
    "pep.head()"
   ]
  },
  {
   "cell_type": "code",
   "execution_count": 7,
   "id": "7d0388e2",
   "metadata": {},
   "outputs": [
    {
     "name": "stdout",
     "output_type": "stream",
     "text": [
      "187669\n",
      "59266\n"
     ]
    }
   ],
   "source": [
    "#normalize MHC IC50 scores using math.log to obtain a score in a scale of 0 to 1. The epitopes with the higer score will be used\n",
    "#smaller IC50s are more favorable so 1 − log(min(IC50, 50000))/log(50000) was used\n",
    "import math\n",
    "listz = list(pep['measurement_value'])\n",
    "for index, row in pep.iterrows():\n",
    "    if listz[index] != 0:\n",
    "        yeet = math.log(min(listz[index], 50000))/math.log(50000)\n",
    "        if not (1-yeet) > 0.35:\n",
    "            pep.drop(index, inplace=True)\n",
    "print(len(pep))"
   ]
  },
  {
   "cell_type": "code",
   "execution_count": 14,
   "id": "3f092862",
   "metadata": {},
   "outputs": [],
   "source": [
    "pep = pep[\"peptide\"]"
   ]
  },
  {
   "cell_type": "code",
   "execution_count": 11,
   "id": "2a258120",
   "metadata": {},
   "outputs": [
    {
     "name": "stderr",
     "output_type": "stream",
     "text": [
      "/Users/kbhaskar/opt/anaconda3/lib/python3.8/site-packages/IPython/core/interactiveshell.py:3165: DtypeWarning: Columns (7) have mixed types.Specify dtype option on import or set low_memory=False.\n",
      "  has_raised = await self.run_ast_nodes(code_ast.body, cell_name,\n"
     ]
    }
   ],
   "source": [
    "#huge dataset of more epitopes, find an overlap between this one and the previous one\n",
    "big = pd.read_csv(\"/Users/kbhaskar/Desktop/GEO database/eluted-mhc-ligands-mass-spec.csv\", index_col=None)"
   ]
  },
  {
   "cell_type": "code",
   "execution_count": 12,
   "id": "fe463355",
   "metadata": {},
   "outputs": [],
   "source": [
    "big = big[\"peptide\"]"
   ]
  },
  {
   "cell_type": "code",
   "execution_count": 13,
   "id": "83417394",
   "metadata": {},
   "outputs": [
    {
     "data": {
      "text/plain": [
       "0    TPSLVKSTSQL\n",
       "1      RPSGPGPEL\n",
       "2     SPKPFTEEVL\n",
       "3      APTLGPAVI\n",
       "4      KIYEGQVEV\n",
       "Name: peptide, dtype: object"
      ]
     },
     "execution_count": 13,
     "metadata": {},
     "output_type": "execute_result"
    }
   ],
   "source": [
    "big.head()"
   ]
  },
  {
   "cell_type": "code",
   "execution_count": 21,
   "id": "30e57ceb",
   "metadata": {},
   "outputs": [],
   "source": [
    "overlap = pd.concat([big,pep])"
   ]
  },
  {
   "cell_type": "code",
   "execution_count": 22,
   "id": "8623ecde",
   "metadata": {},
   "outputs": [
    {
     "data": {
      "text/plain": [
       "712012"
      ]
     },
     "execution_count": 22,
     "metadata": {},
     "output_type": "execute_result"
    }
   ],
   "source": [
    "len(overlap)"
   ]
  },
  {
   "cell_type": "code",
   "execution_count": 27,
   "id": "7d7c0b83",
   "metadata": {},
   "outputs": [],
   "source": [
    "overlap = overlap.drop_duplicates(keep = \"first\")"
   ]
  },
  {
   "cell_type": "code",
   "execution_count": 28,
   "id": "4962eacb",
   "metadata": {},
   "outputs": [
    {
     "data": {
      "text/plain": [
       "295411"
      ]
     },
     "execution_count": 28,
     "metadata": {},
     "output_type": "execute_result"
    }
   ],
   "source": [
    "len(overlap)"
   ]
  },
  {
   "cell_type": "code",
   "execution_count": 29,
   "id": "b65824a8",
   "metadata": {},
   "outputs": [],
   "source": [
    "overlap.to_csv(\"overlap.csv\")"
   ]
  },
  {
   "cell_type": "code",
   "execution_count": null,
   "id": "5b9026be",
   "metadata": {},
   "outputs": [],
   "source": []
  }
 ],
 "metadata": {
  "kernelspec": {
   "display_name": "Python 3",
   "language": "python",
   "name": "python3"
  },
  "language_info": {
   "codemirror_mode": {
    "name": "ipython",
    "version": 3
   },
   "file_extension": ".py",
   "mimetype": "text/x-python",
   "name": "python",
   "nbconvert_exporter": "python",
   "pygments_lexer": "ipython3",
   "version": "3.8.8"
  }
 },
 "nbformat": 4,
 "nbformat_minor": 5
}
