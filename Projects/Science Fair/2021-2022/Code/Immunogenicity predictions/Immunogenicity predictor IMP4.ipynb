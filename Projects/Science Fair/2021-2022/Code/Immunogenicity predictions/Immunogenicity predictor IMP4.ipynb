{
 "cells": [
  {
   "cell_type": "code",
   "execution_count": 6,
   "id": "0eb4ef75",
   "metadata": {},
   "outputs": [],
   "source": [
    "#imports\n",
    "import pandas as pd\n",
    "import numpy as np\n",
    "import random\n",
    "import math\n",
    "#target protein sequence\n",
    "e = '''MLRREARLRREYLYRKAREEAQRSAQERKERLRRALEENRLIPTELRREALALQGSLEFD\n",
    "DAGGEGVTSHVDDEYRWAGVEDPKVMITTSRDPSSRLKMFAKELKLVFPGAQRMNRGRHE\n",
    "VGALVRACKANGVTDLLVVHEHRGTPVGLIVSHLPFGPTAYFTLCNVVMRHDIPDLGTMS\n",
    "EAKPHLITHGFSSRLGKRVSDILRYLFPVPKDDSHRVITFANQDDYISFRHHVYKKTDHR\n",
    "NVELTEVGPRFELKLYMIRLGTLEQEATADVEWRWHPYTNTARKRVFLSTE'''"
   ]
  },
  {
   "cell_type": "code",
   "execution_count": 7,
   "id": "6be12ded",
   "metadata": {},
   "outputs": [],
   "source": [
    "#read csv of filtered MHC peptides/t-cell epitopes\n",
    "peps = pd.read_csv(\"/Users/kbhaskar/Desktop/GEO database/overlap (2).csv\")"
   ]
  },
  {
   "cell_type": "code",
   "execution_count": 8,
   "id": "444366b8",
   "metadata": {},
   "outputs": [],
   "source": [
    "#list for epitope clustering analysis\n",
    "cluster = []"
   ]
  },
  {
   "cell_type": "code",
   "execution_count": 9,
   "id": "a86f9ead",
   "metadata": {},
   "outputs": [
    {
     "name": "stdout",
     "output_type": "stream",
     "text": [
      "23\n"
     ]
    }
   ],
   "source": [
    "from fuzzywuzzy import fuzz\n",
    "total = 0\n",
    "#list that contains peptides from the dataset\n",
    "lists = []\n",
    "for index, row in peps.iterrows():\n",
    "    lists.append(row[\"peptide\"])\n",
    "for x in lists:\n",
    "    #count how many epitopes from the dataset are in the proteins sequence. A partial ratio is allowed in the case where the sequence is mostly but not completely similar. \n",
    "    if x in e:\n",
    "        total+=1\n",
    "        #find the position of the found epitope in the protein sequence and append to the cluster list. \n",
    "        clus = e.find(x)\n",
    "        cluster.append(clus)\n",
    "print(total)"
   ]
  },
  {
   "cell_type": "code",
   "execution_count": 10,
   "id": "8621b5ea",
   "metadata": {},
   "outputs": [
    {
     "data": {
      "image/png": "[encoded data removed]",
      "text/plain": [
       "<Figure size 432x288 with 1 Axes>"
      ]
     },
     "metadata": {
      "needs_background": "light"
     },
     "output_type": "display_data"
    }
   ],
   "source": [
    "#plot frequency of clusters - locations of the protein where there are a lot of clusters have immunogenic potential\n",
    "import matplotlib.pyplot as plt\n",
    "plt.hist(cluster, edgecolor=\"red\", bins=10)\n",
    "plt.show()"
   ]
  },
  {
   "cell_type": "code",
   "execution_count": 11,
   "id": "6bb80f3a",
   "metadata": {},
   "outputs": [
    {
     "name": "stdout",
     "output_type": "stream",
     "text": [
      "[98, 185, 268, 141, 153, 270, 69, 146, 5, 19, 228, 88, 44, 106, 6, 38, 195, 248, 248, 209, 155, 200, 130]\n"
     ]
    }
   ],
   "source": [
    "print(cluster)"
   ]
  },
  {
   "cell_type": "code",
   "execution_count": 53,
   "id": "1e0550d6",
   "metadata": {},
   "outputs": [],
   "source": [
    "#create 100 pseudo proteins for comparison - as a control\n",
    "bigList = []\n",
    "random.seed(4)\n",
    "total = 0;\n",
    "for count in range (0,100):\n",
    "    word = \"\"\n",
    "    for count in range (0,295):\n",
    "        word = word + random.choice(['A','C','D','E','F','G','H','I','K','L','M','N','P','Q','R','S','T','V','W','Y'])\n",
    "    bigList.append(word)\n",
    "    \n",
    "\n"
   ]
  },
  {
   "cell_type": "code",
   "execution_count": 75,
   "id": "ff65880e",
   "metadata": {},
   "outputs": [],
   "source": [
    "#same analysis as before, count how many epitopes found in all pseudo proteins and average them\n",
    "total = 0\n",
    "for i in bigList:\n",
    "    for f in lists:\n",
    "        if fuzz.partial_ratio(i,f) >= 95:\n",
    "            total+=1\n",
    "\n",
    "\n",
    "avg = total/100"
   ]
  },
  {
   "cell_type": "code",
   "execution_count": 76,
   "id": "120eee72",
   "metadata": {},
   "outputs": [
    {
     "name": "stdout",
     "output_type": "stream",
     "text": [
      "0\n"
     ]
    }
   ],
   "source": [
    "print(avg)"
   ]
  }
 ],
 "metadata": {
  "kernelspec": {
   "display_name": "Python 3",
   "language": "python",
   "name": "python3"
  },
  "language_info": {
   "codemirror_mode": {
    "name": "ipython",
    "version": 3
   },
   "file_extension": ".py",
   "mimetype": "text/x-python",
   "name": "python",
   "nbconvert_exporter": "python",
   "pygments_lexer": "ipython3",
   "version": "3.8.8"
  }
 },
 "nbformat": 4,
 "nbformat_minor": 5
}
