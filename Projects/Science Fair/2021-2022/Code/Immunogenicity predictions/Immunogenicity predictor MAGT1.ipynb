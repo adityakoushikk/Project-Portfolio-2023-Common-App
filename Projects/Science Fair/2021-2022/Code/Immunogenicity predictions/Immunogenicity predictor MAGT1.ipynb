{
 "cells": [
  {
   "cell_type": "code",
   "execution_count": 6,
   "id": "0eb4ef75",
   "metadata": {},
   "outputs": [],
   "source": [
    "import pandas as pd\n",
    "import numpy as np\n",
    "import random\n",
    "import math\n",
    "from fuzzywuzzy import fuzz\n",
    "e = '''MAARWRFWCVSVTMVVALLIVCDVPSASAQRKKEMVLSEKVSQLMEWTNKRPVIRMNGDK\n",
    "FRRLVKAPPRNYSVIVMFTALQLHRQCVVCKQADEEFQILANSWRYSSAFTNRIFFAMVD\n",
    "FDEGSDVFQMLNMNSAPTFINFPAKGKPKRGDTYELQVRGFSAEQIARWIADRTDVNIRV\n",
    "IRPPNYAGPLMLGLLLAVIGGLVYLRRSNMEFLFNKTGWAFAALCFVLAMTSGQMWNHIR\n",
    "GPPYAHKNPHTGHVNYIHGSSQAQFVAETHIVLLFNGGVTLGMVLLCEAATSDMDIGKRK\n",
    "IMCVAGIGLVVLFFSWMLSIFRSKYHGYPYSFLMS'''"
   ]
  },
  {
   "cell_type": "code",
   "execution_count": 7,
   "id": "6be12ded",
   "metadata": {},
   "outputs": [],
   "source": [
    "peps = pd.read_csv(\"/Users/kbhaskar/Desktop/GEO database/overlap (2).csv\")\n"
   ]
  },
  {
   "cell_type": "code",
   "execution_count": 10,
   "id": "a86f9ead",
   "metadata": {},
   "outputs": [
    {
     "name": "stdout",
     "output_type": "stream",
     "text": [
      "37\n"
     ]
    }
   ],
   "source": [
    "total = 0\n",
    "lists = []\n",
    "cluster = []\n",
    "for index, row in peps.iterrows():\n",
    "    lists.append(row[\"peptide\"])\n",
    "for x in lists:\n",
    "    if x in e:\n",
    "        total+=1\n",
    "        clus = e.find(x)\n",
    "        cluster.append(clus)\n",
    "\n",
    "print(total)"
   ]
  },
  {
   "cell_type": "code",
   "execution_count": 11,
   "id": "8741d3f2",
   "metadata": {},
   "outputs": [
    {
     "data": {
      "image/png": "[encoded data removed]",
      "text/plain": [
       "<Figure size 432x288 with 1 Axes>"
      ]
     },
     "metadata": {
      "needs_background": "light"
     },
     "output_type": "display_data"
    }
   ],
   "source": [
    "import matplotlib.pyplot as plt\n",
    "plt.hist(cluster, edgecolor=\"red\", bins=10)\n",
    "plt.show()"
   ]
  },
  {
   "cell_type": "code",
   "execution_count": 12,
   "id": "a75943a1",
   "metadata": {},
   "outputs": [
    {
     "name": "stdout",
     "output_type": "stream",
     "text": [
      "[270, 95, 37, 212, 268, 148, 328, 258, 105, 140, 160, 108, 269, 105, 276, 251, 22, 291, 291, 105, 159, 19, 35, 199, 184, 164, 273, 17, 29, 293, 162, 91, 223, 269, 109, 107, 106]\n"
     ]
    }
   ],
   "source": [
    "print(cluster)"
   ]
  },
  {
   "cell_type": "code",
   "execution_count": 26,
   "id": "1e0550d6",
   "metadata": {},
   "outputs": [],
   "source": [
    "bigList = []\n",
    "random.seed(8)\n",
    "total = 0;\n",
    "for count in range (0,100):\n",
    "    word = \"\"\n",
    "    for count in range (0,335):\n",
    "        word = word + random.choice(['A','C','D','E','F','G','H','I','K','L','M','N','P','Q','R','S','T','V','W','Y'])\n",
    "    bigList.append(word)\n"
   ]
  },
  {
   "cell_type": "code",
   "execution_count": 27,
   "id": "ff65880e",
   "metadata": {},
   "outputs": [],
   "source": [
    "total = 0\n",
    "for i in bigList:\n",
    "    for f in lists:\n",
    "        if fuzz.partial_ratio(i,f) >= 95:\n",
    "            total+=1\n",
    "\n",
    "avg = total/100"
   ]
  },
  {
   "cell_type": "code",
   "execution_count": 28,
   "id": "9053a48d",
   "metadata": {},
   "outputs": [
    {
     "name": "stdout",
     "output_type": "stream",
     "text": [
      "1\n"
     ]
    }
   ],
   "source": [
    "print(avg)"
   ]
  },
  {
   "cell_type": "code",
   "execution_count": null,
   "id": "5080d460",
   "metadata": {},
   "outputs": [],
   "source": []
  }
 ],
 "metadata": {
  "kernelspec": {
   "display_name": "Python 3",
   "language": "python",
   "name": "python3"
  },
  "language_info": {
   "codemirror_mode": {
    "name": "ipython",
    "version": 3
   },
   "file_extension": ".py",
   "mimetype": "text/x-python",
   "name": "python",
   "nbconvert_exporter": "python",
   "pygments_lexer": "ipython3",
   "version": "3.8.8"
  }
 },
 "nbformat": 4,
 "nbformat_minor": 5
}
