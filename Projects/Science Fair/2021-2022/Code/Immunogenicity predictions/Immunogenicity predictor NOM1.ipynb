{
 "cells": [
  {
   "cell_type": "code",
   "execution_count": 1,
   "id": "0eb4ef75",
   "metadata": {},
   "outputs": [],
   "source": [
    "import pandas as pd\n",
    "import numpy as np\n",
    "import random\n",
    "import math\n",
    "from fuzzywuzzy import fuzz\n",
    "e = '''MAASRSAGEAGPGGSQGRVVRMKRRGGRGPRRGPAGGGEKALKRLKLAVEEFVHATSEGE\n",
    "APGGCEGRGAPVSFRPGGRKSRKELRKEKRHLRKARRLQRTAGPEQGPGLGGRSGAEEAS\n",
    "GHRQDTEERARPAPSRDPSPPRKPRPSRVKAKATAATAKTRPSAAATAAARKRALLAANE\n",
    "EEDREIRKLERCLGLNKRKKKDGSSSVPLSFARDGLDYILGALESGKNSGLYDSSGEEEE\n",
    "DAGQTLPESDLESDSQDESEEEEEGDVEKEKKAQEAEAQSEDDDEDTEEEQGEEKEKGAQ\n",
    "EKRRGKRVRFAEDEEKSENSSEDGDITDKSLCGSGEKYIPPHVRQAEETVDFKKKEELER\n",
    "LKKHVKGLLNRLSEPNMASISGQLEELYMAHSRKDMNDTLTSALMGACVTASAMPSRLMM\n",
    "EHVLLVSILHHTVGIEVGAHFLEAVVRKFDAIYKYGSEGKECDNLFTVIAHLYNFHVVQS\n",
    "LLIFDILKKLIGTFTEKDIELILLMLKNVGFSLRKDDALSLKELITEAQTKASGAGSEFQ\n",
    "DQTRIRFMLETMLALKNNDMRKIPGYDPEPVEKLRKLQRALVRNAGSGSETQLRVSWDSV\n",
    "LSAEQTGRWWIVGSAWSGAPMIDNSHHTHLQKQLVGTVSSKILELARKQRMNTDIRRNIF\n",
    "CTIMTSEDFLDAFEKLLKLGLKDQQEREIIHVLMDCCLQEKTYNPFYAFLASKFCEYERR\n",
    "FQMTFQFSIWDKFRDLENLPATNFSNLVHLVAHLLKTKSLSLSILKVVEFSELDKPRVRF\n",
    "LRKVLSILLMETEVEDLSLIFTRVSDNPKLGVLREGLKLFISHFLLKNAQAHRSADEANV\n",
    "LREKADLATKCLQGKASLRM'''"
   ]
  },
  {
   "cell_type": "code",
   "execution_count": 2,
   "id": "6be12ded",
   "metadata": {},
   "outputs": [],
   "source": [
    "peps = pd.read_csv(\"/Users/kbhaskar/Desktop/GEO database/overlap (2).csv\")\n"
   ]
  },
  {
   "cell_type": "code",
   "execution_count": 5,
   "id": "a86f9ead",
   "metadata": {},
   "outputs": [
    {
     "name": "stdout",
     "output_type": "stream",
     "text": [
      "17\n"
     ]
    }
   ],
   "source": [
    "total = 0\n",
    "lists = []\n",
    "for index, row in peps.iterrows():\n",
    "    lists.append(row[\"peptide\"])\n",
    "for x in lists:\n",
    "    if x in e:\n",
    "        total+=1\n",
    "\n",
    "\n",
    "print(total)"
   ]
  },
  {
   "cell_type": "code",
   "execution_count": 19,
   "id": "1e0550d6",
   "metadata": {},
   "outputs": [],
   "source": [
    "bigList = []\n",
    "random.seed(7)\n",
    "total = 0;\n",
    "for count in range (0,100):\n",
    "    word = \"\"\n",
    "    for count in range (0,860):\n",
    "        word = word + random.choice(['A','C','D','E','F','G','H','I','K','L','M','N','P','Q','R','S','T','V','W','Y'])\n",
    "    bigList.append(word)\n"
   ]
  },
  {
   "cell_type": "code",
   "execution_count": 20,
   "id": "ff65880e",
   "metadata": {},
   "outputs": [],
   "source": [
    "from fuzzywuzzy import fuzz\n",
    "total = 0\n",
    "for i in bigList:\n",
    "    for f in lists:\n",
    "        if fuzz.partial_ratio(i,f) >= 95:\n",
    "            total+=1\n",
    "\n",
    "avg = total/100\n",
    "\n",
    "    "
   ]
  },
  {
   "cell_type": "code",
   "execution_count": 21,
   "id": "9053a48d",
   "metadata": {},
   "outputs": [
    {
     "name": "stdout",
     "output_type": "stream",
     "text": [
      "1\n"
     ]
    }
   ],
   "source": [
    "print(avg)"
   ]
  },
  {
   "cell_type": "code",
   "execution_count": null,
   "id": "5080d460",
   "metadata": {},
   "outputs": [],
   "source": []
  }
 ],
 "metadata": {
  "kernelspec": {
   "display_name": "Python 3",
   "language": "python",
   "name": "python3"
  },
  "language_info": {
   "codemirror_mode": {
    "name": "ipython",
    "version": 3
   },
   "file_extension": ".py",
   "mimetype": "text/x-python",
   "name": "python",
   "nbconvert_exporter": "python",
   "pygments_lexer": "ipython3",
   "version": "3.8.8"
  }
 },
 "nbformat": 4,
 "nbformat_minor": 5
}
