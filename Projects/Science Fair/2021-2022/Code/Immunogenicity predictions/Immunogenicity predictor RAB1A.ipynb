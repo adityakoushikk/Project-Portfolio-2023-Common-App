{
 "cells": [
  {
   "cell_type": "code",
   "execution_count": 23,
   "id": "0eb4ef75",
   "metadata": {},
   "outputs": [],
   "source": [
    "import pandas as pd\n",
    "import numpy as np\n",
    "import random\n",
    "import math\n",
    "from fuzzywuzzy import fuzz\n",
    "e = '''MSSMNPEYDYLFKLLLIGDSGVGKSCLLLRFADDTYTESYISTIGVDFKIRTIELDGKTI\n",
    "KLQIWDTAGQERFRTITSSYYRGAHGIIVVYDVTDQESFNNVKQWLQEIDRYASENVNKL\n",
    "LVGNKCDLTTKKVVDYTTAKEFADSLGIPFLETSAKNATNVEQSFMTMAAEIKKRMGPGA\n",
    "TAGGAEKSNVKIQSTPVKQSGGGCC'''"
   ]
  },
  {
   "cell_type": "code",
   "execution_count": 24,
   "id": "6be12ded",
   "metadata": {},
   "outputs": [],
   "source": [
    "peps = pd.read_csv(\"/Users/kbhaskar/Desktop/GEO database/overlap (2).csv\")"
   ]
  },
  {
   "cell_type": "code",
   "execution_count": 25,
   "id": "a86f9ead",
   "metadata": {},
   "outputs": [
    {
     "name": "stdout",
     "output_type": "stream",
     "text": [
      "31\n"
     ]
    }
   ],
   "source": [
    "total = 0\n",
    "lists = []\n",
    "cluster = []\n",
    "for index, row in peps.iterrows():\n",
    "    lists.append(row[\"peptide\"])\n",
    "for x in lists:\n",
    "    if x in e:\n",
    "        total+=1\n",
    "        clus = e.find(x)\n",
    "        cluster.append(clus)\n",
    "print(total)"
   ]
  },
  {
   "cell_type": "code",
   "execution_count": 21,
   "id": "73e1cec9",
   "metadata": {},
   "outputs": [
    {
     "data": {
      "image/png": "[encoded data removed]",
      "text/plain": [
       "<Figure size 432x288 with 1 Axes>"
      ]
     },
     "metadata": {
      "needs_background": "light"
     },
     "output_type": "display_data"
    }
   ],
   "source": [
    "import matplotlib.pyplot as plt\n",
    "plt.hist(cluster, edgecolor=\"red\", bins=6)\n",
    "plt.show()"
   ]
  },
  {
   "cell_type": "code",
   "execution_count": 22,
   "id": "37598558",
   "metadata": {},
   "outputs": [
    {
     "name": "stdout",
     "output_type": "stream",
     "text": [
      "[96, 46, 155, 112, 66, 83, 87, 78, 40, 40, 40, 131, 132, 133, 132, 139, 102, 106, 106, 40, 38, 64, 101, 134, 167, 63, 35, 69, 75, 90, 30]\n"
     ]
    }
   ],
   "source": [
    "print(cluster)"
   ]
  },
  {
   "cell_type": "code",
   "execution_count": 7,
   "id": "d6514e19",
   "metadata": {},
   "outputs": [
    {
     "name": "stdout",
     "output_type": "stream",
     "text": [
      "295411\n"
     ]
    }
   ],
   "source": [
    "print(len(lists))"
   ]
  },
  {
   "cell_type": "code",
   "execution_count": 23,
   "id": "1e0550d6",
   "metadata": {},
   "outputs": [],
   "source": [
    "bigList = []\n",
    "random.seed(10)\n",
    "total = 0;\n",
    "for count in range (0,100):\n",
    "    word = \"\"\n",
    "    for count in range (0,205):\n",
    "        word = word + random.choice(['A','C','D','E','F','G','H','I','K','L','M','N','P','Q','R','S','T','V','W','Y'])\n",
    "    bigList.append(word)\n"
   ]
  },
  {
   "cell_type": "code",
   "execution_count": 28,
   "id": "ff65880e",
   "metadata": {},
   "outputs": [],
   "source": [
    "from fuzzywuzzy import fuzz\n",
    "total = 0\n",
    "for i in bigList:\n",
    "    for f in lists:\n",
    "        if fuzz.partial_ratio(i,f) >= 95:\n",
    "            total+=1\n",
    "\n",
    "avg = total/100\n",
    "\n",
    "    "
   ]
  },
  {
   "cell_type": "code",
   "execution_count": 30,
   "id": "9053a48d",
   "metadata": {},
   "outputs": [
    {
     "name": "stdout",
     "output_type": "stream",
     "text": [
      "1\n"
     ]
    }
   ],
   "source": [
    "print(avg)"
   ]
  },
  {
   "cell_type": "code",
   "execution_count": null,
   "id": "5080d460",
   "metadata": {},
   "outputs": [],
   "source": []
  }
 ],
 "metadata": {
  "kernelspec": {
   "display_name": "Python 3",
   "language": "python",
   "name": "python3"
  },
  "language_info": {
   "codemirror_mode": {
    "name": "ipython",
    "version": 3
   },
   "file_extension": ".py",
   "mimetype": "text/x-python",
   "name": "python",
   "nbconvert_exporter": "python",
   "pygments_lexer": "ipython3",
   "version": "3.8.8"
  }
 },
 "nbformat": 4,
 "nbformat_minor": 5
}
