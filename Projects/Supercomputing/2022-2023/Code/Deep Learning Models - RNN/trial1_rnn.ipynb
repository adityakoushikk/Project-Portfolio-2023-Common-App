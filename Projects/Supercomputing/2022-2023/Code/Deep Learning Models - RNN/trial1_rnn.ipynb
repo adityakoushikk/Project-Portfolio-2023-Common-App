{
 "cells": [
  {
   "cell_type": "code",
   "execution_count": 1,
   "id": "dd4591bf",
   "metadata": {},
   "outputs": [],
   "source": [
    "import pandas as pd"
   ]
  },
  {
   "cell_type": "code",
   "execution_count": 2,
   "id": "d66fb115",
   "metadata": {},
   "outputs": [],
   "source": [
    "import tensorflow.keras as keras\n",
    "import numpy as np"
   ]
  },
  {
   "cell_type": "code",
   "execution_count": 3,
   "id": "a2328133",
   "metadata": {},
   "outputs": [],
   "source": [
    "df = pd.read_csv(\"dataset/S01R01.txt\", sep=\" \", header=0, names=[\"Time\", \"AHF\", \"AV\", \"AHL\", \"UHF\", \"UV\", \"UHL\", \"THF\", \"TV\", \"THL\", \"Annotation\"])\n",
    "df = df[df.Annotation != 0]\n",
    "df.Annotation -= 1"
   ]
  },
  {
   "cell_type": "code",
   "execution_count": 4,
   "id": "c1b87b74",
   "metadata": {},
   "outputs": [
    {
     "data": {
      "text/html": [
       "<div>\n",
       "<style scoped>\n",
       "    .dataframe tbody tr th:only-of-type {\n",
       "        vertical-align: middle;\n",
       "    }\n",
       "\n",
       "    .dataframe tbody tr th {\n",
       "        vertical-align: top;\n",
       "    }\n",
       "\n",
       "    .dataframe thead th {\n",
       "        text-align: right;\n",
       "    }\n",
       "</style>\n",
       "<table border=\"1\" class=\"dataframe\">\n",
       "  <thead>\n",
       "    <tr style=\"text-align: right;\">\n",
       "      <th></th>\n",
       "      <th>Time</th>\n",
       "      <th>AHF</th>\n",
       "      <th>AV</th>\n",
       "      <th>AHL</th>\n",
       "      <th>UHF</th>\n",
       "      <th>UV</th>\n",
       "      <th>UHL</th>\n",
       "      <th>THF</th>\n",
       "      <th>TV</th>\n",
       "      <th>THL</th>\n",
       "      <th>Annotation</th>\n",
       "    </tr>\n",
       "  </thead>\n",
       "  <tbody>\n",
       "    <tr>\n",
       "      <th>47998</th>\n",
       "      <td>750000</td>\n",
       "      <td>-30</td>\n",
       "      <td>990</td>\n",
       "      <td>326</td>\n",
       "      <td>-45</td>\n",
       "      <td>972</td>\n",
       "      <td>181</td>\n",
       "      <td>-38</td>\n",
       "      <td>1000</td>\n",
       "      <td>29</td>\n",
       "      <td>0</td>\n",
       "    </tr>\n",
       "    <tr>\n",
       "      <th>47999</th>\n",
       "      <td>750015</td>\n",
       "      <td>-30</td>\n",
       "      <td>1000</td>\n",
       "      <td>356</td>\n",
       "      <td>-18</td>\n",
       "      <td>981</td>\n",
       "      <td>212</td>\n",
       "      <td>-48</td>\n",
       "      <td>1028</td>\n",
       "      <td>29</td>\n",
       "      <td>0</td>\n",
       "    </tr>\n",
       "    <tr>\n",
       "      <th>48000</th>\n",
       "      <td>750031</td>\n",
       "      <td>-20</td>\n",
       "      <td>990</td>\n",
       "      <td>336</td>\n",
       "      <td>18</td>\n",
       "      <td>981</td>\n",
       "      <td>222</td>\n",
       "      <td>-38</td>\n",
       "      <td>1038</td>\n",
       "      <td>9</td>\n",
       "      <td>0</td>\n",
       "    </tr>\n",
       "    <tr>\n",
       "      <th>48001</th>\n",
       "      <td>750046</td>\n",
       "      <td>-20</td>\n",
       "      <td>1000</td>\n",
       "      <td>316</td>\n",
       "      <td>36</td>\n",
       "      <td>990</td>\n",
       "      <td>222</td>\n",
       "      <td>-19</td>\n",
       "      <td>1038</td>\n",
       "      <td>9</td>\n",
       "      <td>0</td>\n",
       "    </tr>\n",
       "    <tr>\n",
       "      <th>48002</th>\n",
       "      <td>750062</td>\n",
       "      <td>0</td>\n",
       "      <td>990</td>\n",
       "      <td>316</td>\n",
       "      <td>36</td>\n",
       "      <td>990</td>\n",
       "      <td>212</td>\n",
       "      <td>-29</td>\n",
       "      <td>1038</td>\n",
       "      <td>29</td>\n",
       "      <td>0</td>\n",
       "    </tr>\n",
       "  </tbody>\n",
       "</table>\n",
       "</div>"
      ],
      "text/plain": [
       "         Time  AHF    AV  AHL  UHF   UV  UHL  THF    TV  THL  Annotation\n",
       "47998  750000  -30   990  326  -45  972  181  -38  1000   29           0\n",
       "47999  750015  -30  1000  356  -18  981  212  -48  1028   29           0\n",
       "48000  750031  -20   990  336   18  981  222  -38  1038    9           0\n",
       "48001  750046  -20  1000  316   36  990  222  -19  1038    9           0\n",
       "48002  750062    0   990  316   36  990  212  -29  1038   29           0"
      ]
     },
     "execution_count": 4,
     "metadata": {},
     "output_type": "execute_result"
    }
   ],
   "source": [
    "df.head()"
   ]
  },
  {
   "cell_type": "code",
   "execution_count": 5,
   "id": "53bca4c1",
   "metadata": {},
   "outputs": [
    {
     "data": {
      "image/png": "[encoded data removed]",
      "text/plain": [
       "<Figure size 640x480 with 1 Axes>"
      ]
     },
     "metadata": {},
     "output_type": "display_data"
    }
   ],
   "source": [
    "import matplotlib.pyplot as plt\n",
    "\n",
    "plt.scatter(df['Time'], df['Annotation'])\n",
    "plt.show()"
   ]
  },
  {
   "cell_type": "code",
   "execution_count": 6,
   "id": "bac95625",
   "metadata": {},
   "outputs": [],
   "source": [
    "#use multiple files to train & test\n",
    "def createData(df, time_steps, x, y):\n",
    "    n = df.shape[0]\n",
    "    df = df.iloc(0)\n",
    "    i = 0\n",
    "    while i < n-1:\n",
    "        a = []\n",
    "        b = []\n",
    "        for j in range(time_steps):\n",
    "            if i >= n-1:\n",
    "                break\n",
    "            a.append(list(df[i]['AHF':'THL']))\n",
    "            b.append(df[i]['Annotation'])\n",
    "            i += 1\n",
    "\n",
    "        if (len(a) != time_steps):\n",
    "            break\n",
    "        x.append(a)\n",
    "        y.append(b)\n",
    "\n",
    "    return x, y\n",
    "\n",
    "\n",
    "def multiDataFrame(text_files, time_steps):\n",
    "    x = []\n",
    "    y = []\n",
    "    for files in text_files:\n",
    "        df = pd.read_csv(\"dataset/\" + files, sep=\" \", header=0, names=[\"Time\", \"AHF\", \"AV\", \"AHL\", \"UHF\", \"UV\", \"UHL\", \"THF\", \"TV\", \"THL\", \"Annotation\"])\n",
    "        df = df[df.Annotation != 0]\n",
    "        df.Annotation -= 1\n",
    "        x, y = createData(df, time_steps, x, y)\n",
    "        \n",
    "    return np.array(x), np.array(y)\n",
    "\n"
   ]
  },
  {
   "cell_type": "code",
   "execution_count": 7,
   "id": "641b8fd3",
   "metadata": {},
   "outputs": [
    {
     "name": "stdout",
     "output_type": "stream",
     "text": [
      "4595.055555555556 285.94444444444446\n"
     ]
    }
   ],
   "source": [
    "#figuring out the longest & the shortest chain \n",
    "chains = [[], []]\n",
    "cur = 1\n",
    "for i in range(1, df.shape[0]):\n",
    "    this = df.iloc(0)[i]['Annotation']\n",
    "    prev = df.iloc(0)[i-1]['Annotation']\n",
    "    if (this == prev):\n",
    "        cur += 1; \n",
    "    else:\n",
    "        chains[prev].append(cur)\n",
    "        cur = 1\n",
    "\n",
    "print(np.average(chains[0]), np.average(chains[1]))"
   ]
  },
  {
   "cell_type": "code",
   "execution_count": 8,
   "id": "2073f2f5",
   "metadata": {},
   "outputs": [],
   "source": [
    "X, y = multiDataFrame(['S01R01.txt', 'S01R02.txt', 'S02R01.txt', 'S02R02.txt', 'S03R01.txt', 'S03R02.txt', 'S03R03.txt', 'S04R01.txt', 'S05R01.txt', 'S05R02.txt', 'S06R01.txt', 'S06R02.txt'], 100) #~1.5s worth of data"
   ]
  },
  {
   "cell_type": "code",
   "execution_count": 9,
   "id": "3b239dca",
   "metadata": {},
   "outputs": [],
   "source": [
    "from sklearn.model_selection import train_test_split\n",
    "X_train, X_test, y_train, y_test = train_test_split(X, y, test_size=0.30, random_state=12)\n",
    "\n",
    "val_n = 300\n",
    "\n",
    "X_val = X_train[-val_n:]\n",
    "y_val = y_train[-val_n:]\n",
    "X_train = X_train[:-val_n]\n",
    "y_train = y_train[:-val_n]\n"
   ]
  },
  {
   "cell_type": "code",
   "execution_count": 10,
   "id": "decad17e",
   "metadata": {},
   "outputs": [
    {
     "data": {
      "text/plain": [
       "((4838, 100), (4838, 100, 9))"
      ]
     },
     "execution_count": 10,
     "metadata": {},
     "output_type": "execute_result"
    }
   ],
   "source": [
    "y_train.shape, X_train.shape\n"
   ]
  },
  {
   "cell_type": "code",
   "execution_count": 11,
   "id": "a6742be7",
   "metadata": {},
   "outputs": [
    {
     "name": "stderr",
     "output_type": "stream",
     "text": [
      "2022-12-16 20:02:29.911163: I tensorflow/core/platform/cpu_feature_guard.cc:193] This TensorFlow binary is optimized with oneAPI Deep Neural Network Library (oneDNN) to use the following CPU instructions in performance-critical operations:  SSE4.1 SSE4.2\n",
      "To enable them in other operations, rebuild TensorFlow with the appropriate compiler flags.\n"
     ]
    },
    {
     "name": "stdout",
     "output_type": "stream",
     "text": [
      "Model: \"sequential\"\n",
      "_________________________________________________________________\n",
      " Layer (type)                Output Shape              Param #   \n",
      "=================================================================\n",
      " lstm (LSTM)                 (None, 100, 7)            476       \n",
      "                                                                 \n",
      " dense (Dense)               (None, 100, 5)            40        \n",
      "                                                                 \n",
      " dense_1 (Dense)             (None, 100, 5)            30        \n",
      "                                                                 \n",
      " dropout (Dropout)           (None, 100, 5)            0         \n",
      "                                                                 \n",
      " dense_2 (Dense)             (None, 100, 1)            6         \n",
      "                                                                 \n",
      "=================================================================\n",
      "Total params: 552\n",
      "Trainable params: 552\n",
      "Non-trainable params: 0\n",
      "_________________________________________________________________\n"
     ]
    }
   ],
   "source": [
    "model = keras.Sequential()\n",
    "\n",
    "model.add(keras.layers.LSTM(7, input_shape=X_train.shape[1:], return_sequences=True))\n",
    "# model.add(keras.layers.Dropout(0.1))\n",
    "\n",
    "model.add(keras.layers.Dense(5, activation=\"relu\"))\n",
    "\n",
    "model.add(keras.layers.Dense(5, activation=\"relu\"))\n",
    "model.add(keras.layers.Dropout(0.1))\n",
    "\n",
    "\n",
    "model.add(keras.layers.Dense(1, activation=\"sigmoid\"))\n",
    "\n",
    "model.summary()"
   ]
  },
  {
   "cell_type": "code",
   "execution_count": 12,
   "id": "757f14a4",
   "metadata": {},
   "outputs": [],
   "source": [
    "from keras import backend as K\n",
    "\n",
    "def recall_m(y_true, y_pred):\n",
    "    true_positives = K.sum(K.round(K.clip(y_true * y_pred, 0, 1)))\n",
    "    possible_positives = K.sum(K.round(K.clip(y_true, 0, 1)))\n",
    "    recall = true_positives / (possible_positives + K.epsilon())\n",
    "    return recall\n",
    "\n",
    "def precision_m(y_true, y_pred):\n",
    "    true_positives = K.sum(K.round(K.clip(y_true * y_pred, 0, 1)))\n",
    "    predicted_positives = K.sum(K.round(K.clip(y_pred, 0, 1)))\n",
    "    precision = true_positives / (predicted_positives + K.epsilon())\n",
    "    return precision\n",
    "\n",
    "def f1_m(y_true, y_pred):\n",
    "    precision = precision_m(y_true, y_pred)\n",
    "    recall = recall_m(y_true, y_pred)\n",
    "    return 2*((precision*recall)/(precision+recall+K.epsilon()))"
   ]
  },
  {
   "cell_type": "code",
   "execution_count": 22,
   "id": "c72fdaa5",
   "metadata": {},
   "outputs": [],
   "source": [
    "model.compile(optimizer=\"Adam\", loss=\"binary_crossentropy\", metrics=['acc', f1_m, precision_m, recall_m])"
   ]
  },
  {
   "cell_type": "code",
   "execution_count": 23,
   "id": "48a5f2d0",
   "metadata": {},
   "outputs": [
    {
     "name": "stdout",
     "output_type": "stream",
     "text": [
      "Epoch 1/2\n",
      "242/242 [==============================] - 6s 20ms/step - loss: 0.2906 - acc: 0.8935 - f1_m: 0.0000e+00 - precision_m: 0.0000e+00 - recall_m: 0.0000e+00 - val_loss: 0.2326 - val_acc: 0.9278 - val_f1_m: 0.0000e+00 - val_precision_m: 0.0000e+00 - val_recall_m: 0.0000e+00\n",
      "Epoch 2/2\n",
      "242/242 [==============================] - 5s 19ms/step - loss: 0.2813 - acc: 0.8935 - f1_m: 0.0000e+00 - precision_m: 0.0000e+00 - recall_m: 0.0000e+00 - val_loss: 0.2220 - val_acc: 0.9278 - val_f1_m: 0.0000e+00 - val_precision_m: 0.0000e+00 - val_recall_m: 0.0000e+00\n"
     ]
    }
   ],
   "source": [
    "history = model.fit(X_train, y_train, batch_size=20, epochs=2, validation_data=(X_val, y_val))"
   ]
  },
  {
   "cell_type": "markdown",
   "id": "17df29ae",
   "metadata": {},
   "source": []
  },
  {
   "cell_type": "code",
   "execution_count": 26,
   "id": "6e52d66a",
   "metadata": {},
   "outputs": [],
   "source": [
    "loss, accuracy, f1_score, precision, recall = model.evaluate(X_test, y_test, verbose=0)"
   ]
  },
  {
   "cell_type": "code",
   "execution_count": 27,
   "id": "8f8c9bde",
   "metadata": {},
   "outputs": [
    {
     "name": "stdout",
     "output_type": "stream",
     "text": [
      "0.2664440870285034 0.901244580745697 0.0 0.0 0.0\n"
     ]
    }
   ],
   "source": [
    "print(loss, accuracy, f1_score, precision, recall)"
   ]
  },
  {
   "cell_type": "code",
   "execution_count": 28,
   "id": "41fce8ef",
   "metadata": {},
   "outputs": [
    {
     "name": "stdout",
     "output_type": "stream",
     "text": [
      "69/69 [==============================] - 1s 4ms/step\n"
     ]
    }
   ],
   "source": [
    "y_pred = model.predict(X_test)"
   ]
  },
  {
   "cell_type": "code",
   "execution_count": 29,
   "id": "ef49f0eb",
   "metadata": {},
   "outputs": [
    {
     "data": {
      "text/plain": [
       "array([[[0.14939512],\n",
       "        [0.12262007],\n",
       "        [0.11905599],\n",
       "        ...,\n",
       "        [0.06132647],\n",
       "        [0.06132647],\n",
       "        [0.06664049]],\n",
       "\n",
       "       [[0.01866139],\n",
       "        [0.01450282],\n",
       "        [0.01395186],\n",
       "        ...,\n",
       "        [0.01386597],\n",
       "        [0.01386597],\n",
       "        [0.01386597]],\n",
       "\n",
       "       [[0.01271831],\n",
       "        [0.01271831],\n",
       "        [0.01271831],\n",
       "        ...,\n",
       "        [0.01271831],\n",
       "        [0.01271831],\n",
       "        [0.01271831]],\n",
       "\n",
       "       ...,\n",
       "\n",
       "       [[0.14939512],\n",
       "        [0.12262007],\n",
       "        [0.11905599],\n",
       "        ...,\n",
       "        [0.06166242],\n",
       "        [0.06137196],\n",
       "        [0.0669485 ]],\n",
       "\n",
       "       [[0.2224881 ],\n",
       "        [0.21172133],\n",
       "        [0.10674692],\n",
       "        ...,\n",
       "        [0.07001057],\n",
       "        [0.07001057],\n",
       "        [0.07001057]],\n",
       "\n",
       "       [[0.09043312],\n",
       "        [0.06381812],\n",
       "        [0.07028438],\n",
       "        ...,\n",
       "        [0.06166242],\n",
       "        [0.06137091],\n",
       "        [0.06133162]]], dtype=float32)"
      ]
     },
     "execution_count": 29,
     "metadata": {},
     "output_type": "execute_result"
    }
   ],
   "source": [
    "y_pred"
   ]
  },
  {
   "cell_type": "code",
   "execution_count": 32,
   "id": "ace65096",
   "metadata": {},
   "outputs": [
    {
     "data": {
      "text/plain": [
       "0"
      ]
     },
     "execution_count": 32,
     "metadata": {},
     "output_type": "execute_result"
    }
   ],
   "source": [
    "y_pred = np.round(y_pred)\n",
    "np.count_nonzero(y_pred)\n",
    "#essentially, all the guesses were 0"
   ]
  },
  {
   "cell_type": "code",
   "execution_count": 38,
   "id": "ac7f4949",
   "metadata": {},
   "outputs": [
    {
     "name": "stdout",
     "output_type": "stream",
     "text": [
      "[1.]\n"
     ]
    }
   ],
   "source": [
    "def createModel(X_train, y_train, X_test, y_test, X_val, y_val, optimizer, loss, metrics, batch_size=20, epochs=25):\n",
    "    model = keras.Sequential()\n",
    "\n",
    "    model.add(keras.layers.LSTM(7, input_shape=X_train.shape[1:], return_sequences=True))\n",
    "    # model.add(keras.layers.Dropout(0.1))\n",
    "\n",
    "    model.add(keras.layers.Dense(5, activation=\"relu\"))\n",
    "\n",
    "    model.add(keras.layers.Dense(5, activation=\"relu\"))\n",
    "    model.add(keras.layers.Dropout(0.1))\n",
    "\n",
    "\n",
    "    model.add(keras.layers.Dense(1, activation=\"sigmoid\"))\n",
    "\n",
    "    model.summary()\n",
    "    model.compile(optimizer=optimizer, loss=loss, metrics=metrics)\n",
    "    history = model.fit(X_train, y_train, batch_size=20, epochs=2, validation_data=(X_val, y_val))\n",
    "    loss, accuracy, f1_score, precision, recall = model.evaluate(X_test, y_test, verbose=2)"
   ]
  },
  {
   "cell_type": "code",
   "execution_count": null,
   "id": "cdb274f8",
   "metadata": {},
   "outputs": [],
   "source": []
  }
 ],
 "metadata": {
  "kernelspec": {
   "display_name": "Python 3.8.15 ('tensorflow')",
   "language": "python",
   "name": "python3"
  },
  "language_info": {
   "codemirror_mode": {
    "name": "ipython",
    "version": 3
   },
   "file_extension": ".py",
   "mimetype": "text/x-python",
   "name": "python",
   "nbconvert_exporter": "python",
   "pygments_lexer": "ipython3",
   "version": "3.8.15"
  },
  "vscode": {
   "interpreter": {
    "hash": "2da7f3e54f135d39d22a24f5b86093a435eee55a49ac6231e133446482db15e6"
   }
  }
 },
 "nbformat": 4,
 "nbformat_minor": 5
}
